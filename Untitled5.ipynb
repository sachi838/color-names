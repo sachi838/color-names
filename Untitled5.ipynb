{
  "nbformat": 4,
  "nbformat_minor": 0,
  "metadata": {
    "colab": {
      "name": "Untitled5.ipynb",
      "provenance": [],
      "authorship_tag": "ABX9TyOt7fxif/KQ9rQ4NPbMfFNi",
      "include_colab_link": true
    },
    "kernelspec": {
      "name": "python3",
      "display_name": "Python 3"
    },
    "language_info": {
      "name": "python"
    }
  },
  "cells": [
    {
      "cell_type": "markdown",
      "metadata": {
        "id": "view-in-github",
        "colab_type": "text"
      },
      "source": [
        "<a href=\"https://colab.research.google.com/github/sachi838/color-names/blob/master/Untitled5.ipynb\" target=\"_parent\"><img src=\"https://colab.research.google.com/assets/colab-badge.svg\" alt=\"Open In Colab\"/></a>"
      ]
    },
    {
      "cell_type": "code",
      "source": [
        "import cv2\n",
        "import pandas as pd"
      ],
      "metadata": {
        "id": "0Njm_Y3fQzcr"
      },
      "execution_count": 10,
      "outputs": []
    },
    {
      "cell_type": "code",
      "source": [
        "img_path = 'colour.jpg'\n",
        "csv_path = 'colorhexa_com.csv'"
      ],
      "metadata": {
        "id": "ZZI6kPnLRXB-"
      },
      "execution_count": 4,
      "outputs": []
    },
    {
      "cell_type": "code",
      "source": [
        "index = ['color', 'color_name', 'hex', 'R', 'G', 'B']\n",
        "df = pd.read_csv(csv_path, names=index, header=None)\n"
      ],
      "metadata": {
        "id": "jwwmv5lkSFU6"
      },
      "execution_count": 5,
      "outputs": []
    },
    {
      "cell_type": "code",
      "source": [
        "img = cv2.imread(img_path)\n",
        "img = cv2.resize(img, (1500,800))\n"
      ],
      "metadata": {
        "id": "tWBs4GwJSNH9"
      },
      "execution_count": 6,
      "outputs": []
    },
    {
      "cell_type": "code",
      "source": [
        "clicked = False\n",
        "r = g = b = xpos = ypos = 0\n"
      ],
      "metadata": {
        "id": "NLdjpFDxSTev"
      },
      "execution_count": 7,
      "outputs": []
    },
    {
      "cell_type": "code",
      "source": [
        "def get_color_name(R,G,B):\n",
        " \tminimum = 1000\n",
        " \tfor i in range(len(df)):\n",
        " \t\td = abs(R - int(df.loc[i,'R'])) + abs(G - int(df.loc[i,'G'])) + abs(B - int(df.loc[i,'B']))\n",
        " \t\tif d <= minimum:\n",
        " \t\t\tminimum = d\n",
        " \t\t\tcname = df.loc[i, 'color_name']\n",
        "\n",
        " \treturn cname"
      ],
      "metadata": {
        "id": "3RYlx0ADSY5y"
      },
      "execution_count": 8,
      "outputs": []
    },
    {
      "cell_type": "code",
      "source": [
        "def draw_function(event, x, y, flags, params):\n",
        " \tif event == cv2.EVENT_LBUTTONDBLCLK:\n",
        " \t\tglobal b, g, r, xpos, ypos, clicked\n",
        " \t\tclicked = True\n",
        " \t\txpos = x\n",
        " \t\typos = y\n",
        " \t\tb,g,r = img[y,x]\n",
        " \t\tb = int(b)\n",
        " \t\tg = int(g)\n",
        " \t\tr = int(r)"
      ],
      "metadata": {
        "id": "fDl1vTQrSepe"
      },
      "execution_count": 9,
      "outputs": []
    },
    {
      "cell_type": "code",
      "source": [
        "cv2.namedWindow('image')\n",
        "cv2.setMouseCallback('image', draw_function)\n",
        "\n",
        "while True:\n",
        " \tcv2.imshow('image', img)\n",
        " \tif clicked:\n",
        " \t\t#cv2.rectangle(image, startpoint, endpoint, color, thickness)-1 fills entire rectangle \n",
        " \t\tcv2.rectangle(img, (20,20), (600,60), (b,g,r), -1)\n",
        "\n",
        " \t\t#Creating text string to display( Color name and RGB values )\n",
        " \t\ttext = get_color_name(r,g,b) + ' R=' + str(r) + ' G=' + str(g) + ' B=' + str(b)\n",
        " \t\t#cv2.putText(img,text,start,font(0-7),fontScale,color,thickness,lineType )\n",
        " \t\tcv2.putText(img, text, (50,50), 2,0.8, (255,255,255),2,cv2.LINE_AA)\n",
        "\n",
        " \t\t#For very light colours we will display text in black colour\n",
        " \t\tif r+g+b >=600:\n",
        " \t\t\tcv2.putText(img, text, (50,50), 2,0.8, (0,0,0),2,cv2.LINE_AA)\n",
        "\n",
        " \tif cv2.waitKey(20) & 0xFF == 27:\n",
        " \t\tbreak\n",
        "\n",
        "cv2.destroyAllWindows()"
      ],
      "metadata": {
        "colab": {
          "base_uri": "https://localhost:8080/",
          "height": 232
        },
        "id": "nl6tq54gfAQZ",
        "outputId": "0138c16e-66c6-4054-c6a2-3ce06406abd7"
      },
      "execution_count": 1,
      "outputs": [
        {
          "output_type": "error",
          "ename": "NameError",
          "evalue": "ignored",
          "traceback": [
            "\u001b[0;31m---------------------------------------------------------------------------\u001b[0m",
            "\u001b[0;31mNameError\u001b[0m                                 Traceback (most recent call last)",
            "\u001b[0;32m<ipython-input-1-8b80b7e20984>\u001b[0m in \u001b[0;36m<module>\u001b[0;34m()\u001b[0m\n\u001b[0;32m----> 1\u001b[0;31m \u001b[0mcv2\u001b[0m\u001b[0;34m.\u001b[0m\u001b[0mnamedWindow\u001b[0m\u001b[0;34m(\u001b[0m\u001b[0;34m'image'\u001b[0m\u001b[0;34m)\u001b[0m\u001b[0;34m\u001b[0m\u001b[0;34m\u001b[0m\u001b[0m\n\u001b[0m\u001b[1;32m      2\u001b[0m \u001b[0mcv2\u001b[0m\u001b[0;34m.\u001b[0m\u001b[0msetMouseCallback\u001b[0m\u001b[0;34m(\u001b[0m\u001b[0;34m'image'\u001b[0m\u001b[0;34m,\u001b[0m \u001b[0mdraw_function\u001b[0m\u001b[0;34m)\u001b[0m\u001b[0;34m\u001b[0m\u001b[0;34m\u001b[0m\u001b[0m\n\u001b[1;32m      3\u001b[0m \u001b[0;34m\u001b[0m\u001b[0m\n\u001b[1;32m      4\u001b[0m \u001b[0;32mwhile\u001b[0m \u001b[0;32mTrue\u001b[0m\u001b[0;34m:\u001b[0m\u001b[0;34m\u001b[0m\u001b[0;34m\u001b[0m\u001b[0m\n\u001b[1;32m      5\u001b[0m         \u001b[0mcv2\u001b[0m\u001b[0;34m.\u001b[0m\u001b[0mimshow\u001b[0m\u001b[0;34m(\u001b[0m\u001b[0;34m'image'\u001b[0m\u001b[0;34m,\u001b[0m \u001b[0mimg\u001b[0m\u001b[0;34m)\u001b[0m\u001b[0;34m\u001b[0m\u001b[0;34m\u001b[0m\u001b[0m\n",
            "\u001b[0;31mNameError\u001b[0m: name 'cv2' is not defined"
          ]
        }
      ]
    }
  ]
}